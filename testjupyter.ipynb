{
 "cells": [
  {
   "cell_type": "markdown",
   "metadata": {},
   "source": [
    "# intro"
   ]
  },
  {
   "cell_type": "code",
   "execution_count": null,
   "metadata": {},
   "outputs": [],
   "source": [
    "print(\"working\")\n",
    "import pandas as pd\n",
    "from pathlib import Path\n",
    "fp = pd.read_csv(\"cereal.csv\")\n",
    "print('hello')\n",
    "filepath = Path('/workspaces/code-ninja-2024-pandas')\n",
    "for i in filepath.glob('cereal'):\n",
    "    print(i)\n",
    "print(fp.sort_values(by=['calories', 'sugars'], ascending=[False, False]))"
   ]
  },
  {
   "cell_type": "markdown",
   "metadata": {},
   "source": [
    "There will be a mark down instruction then a python cell"
   ]
  },
  {
   "cell_type": "code",
   "execution_count": null,
   "metadata": {},
   "outputs": [],
   "source": [
    "#task 0\n",
    "import pandas as pd\n",
    "\n",
    "print('hello')\n",
    "\n",
    "df = pd.read_csv(\"cereal.csv\")\n",
    "#print(df.head)\n"
   ]
  },
  {
   "cell_type": "code",
   "execution_count": null,
   "metadata": {},
   "outputs": [],
   "source": [
    "\n",
    "#task 1 paper 1\n",
    "\n",
    "print(df.info())\n",
    "\n"
   ]
  },
  {
   "cell_type": "markdown",
   "metadata": {},
   "source": [
    "# paper 1"
   ]
  },
  {
   "cell_type": "markdown",
   "metadata": {},
   "source": [
    "#output first rows\n",
    "#output number of rows and columns\n",
    "#output column header names\n",
    "#output detailed \n"
   ]
  },
  {
   "cell_type": "code",
   "execution_count": null,
   "metadata": {},
   "outputs": [],
   "source": [
    "\n",
    "#task 2\n",
    "\n",
    "print(df.iloc[1:3])\n",
    "print(df.shape)\n",
    "print(df.columns.values)\n",
    "df.describe()\n",
    "\n"
   ]
  },
  {
   "cell_type": "markdown",
   "metadata": {},
   "source": [
    "#output 3rd row\n",
    "#output last row\n",
    "#output the first column\n",
    "#output the first 2 columns of the first 10 rows\n",
    "\n"
   ]
  },
  {
   "cell_type": "code",
   "execution_count": null,
   "metadata": {},
   "outputs": [],
   "source": [
    "\n",
    "#task 3\n",
    "\n",
    "print(df.iloc[3:4])\n",
    "print(df.iloc[,:-1])\n",
    "print(df.iloc[:, :1])\n",
    "print(df.iloc[:10, :2])\n",
    "\n"
   ]
  },
  {
   "cell_type": "markdown",
   "metadata": {},
   "source": [
    "#which cereals are made by Kellogs\n",
    "#find average fiber in cereals\n"
   ]
  },
  {
   "cell_type": "code",
   "execution_count": null,
   "metadata": {},
   "outputs": [],
   "source": [
    "\n",
    "#task 3.5\n",
    "\n",
    "print(df[\"mfr\"] == \"K\")\n",
    "print(df[\"fiber\"].mean())\n",
    "\n"
   ]
  },
  {
   "cell_type": "markdown",
   "metadata": {},
   "source": [
    "#which cereals are made by Kellogs\n",
    "#find average fiber in cereals\n"
   ]
  },
  {
   "cell_type": "code",
   "execution_count": null,
   "metadata": {},
   "outputs": [],
   "source": [
    "\n",
    "#task 3.5\n",
    "\n",
    "print(df[\"mfr\"] == \"K\")\n",
    "print(df[\"fiber\"].mean())\n",
    "\n"
   ]
  },
  {
   "cell_type": "markdown",
   "metadata": {},
   "source": [
    "#what are the different serving sizes\n",
    "#how many are on the top 3 shelfs\n",
    "#what are the average calories\n",
    "#whats the highest sodium\n",
    "#whats the lowest fiber\n",
    "#what cereals have a lower than sixty percent rating\n"
   ]
  },
  {
   "cell_type": "code",
   "execution_count": null,
   "metadata": {},
   "outputs": [],
   "source": [
    "\n",
    "#task 4\n",
    "\n",
    "print(df[\"cups\"]) \n",
    "print(df[\"shelf\"] <= 3)\n",
    "print(df[\"calories\"].mean())\n",
    "print(df[\"sodium\"].max())\n",
    "print(df[\"fiber\"].min())\n",
    "print(df[\"rating\"] < 60)\n",
    "\n"
   ]
  },
  {
   "cell_type": "markdown",
   "metadata": {},
   "source": [
    "#output the names and the calories\n",
    "#output Froot Loops and Golden Grahams\n",
    "#output a small square of data from the middle of the file\n",
    "#[rows, cols]"
   ]
  },
  {
   "cell_type": "code",
   "execution_count": null,
   "metadata": {},
   "outputs": [],
   "source": [
    "\n",
    "#task 4 extension\n",
    "\n",
    "print(df[[\"name\", \"calories\"]])\n",
    "print(df.iloc[25], df.iloc[31])\n",
    "print(df.iloc[6:16, 4:7])\n",
    "#[rows, cols]\n",
    "\n"
   ]
  },
  {
   "cell_type": "markdown",
   "metadata": {},
   "source": [
    "# paper 2"
   ]
  },
  {
   "cell_type": "markdown",
   "metadata": {},
   "source": [
    "#to get the rating of the cerial AND the manufacturer\n",
    "#make a query to get the levels of ingredients\n"
   ]
  },
  {
   "cell_type": "code",
   "execution_count": null,
   "metadata": {},
   "outputs": [],
   "source": [
    "\n",
    "#task 1 paper 2\n",
    "\n",
    "df[(df.rating >= 50) & (df.mfr == 'K')]\n",
    "df.loc[(df['mfr']=='K') & (df['fiber']<2)]\n",
    "df.query('sodium >= 100 & sugars > 10')\n",
    "\n"
   ]
  },
  {
   "cell_type": "markdown",
   "metadata": {},
   "source": [
    "#output the kelloggs in ascending values\n"
   ]
  },
  {
   "cell_type": "code",
   "execution_count": null,
   "metadata": {},
   "outputs": [],
   "source": [
    "\n",
    "#task 2\n",
    "\n",
    "print(df[df['mfr'] == 'K'].sort_values(by='rating'))\n",
    "\n"
   ]
  },
  {
   "cell_type": "markdown",
   "metadata": {},
   "source": [
    "#Rank the Cereals made by General Mills (G) and Nabisco (N), according to the number of\n",
    "#calories (highest first) and then, by the amount of fat (lowest first)."
   ]
  },
  {
   "cell_type": "code",
   "execution_count": null,
   "metadata": {},
   "outputs": [],
   "source": [
    "\n",
    "#task 3\n",
    "\n",
    "import pandas as pd\n",
    "\n",
    "sorted_df_g = df[df['mfr'] == 'G'].sort_values(by='calories', ascending=True)\n",
    "sorted_df_n = df[df['mfr'] == 'N'].sort_values(by='fat', ascending=False)\n",
    "\n",
    "#learning concat\n",
    "\n",
    "# Concatenate the two DataFrames vertically\n",
    "combined_df = pd.concat([sorted_df_g, sorted_df_n])\n",
    "\n",
    "print(\"Combined Sorted DataFrame:\")\n",
    "print(combined_df)\n",
    "\n",
    "\n"
   ]
  },
  {
   "cell_type": "markdown",
   "metadata": {},
   "source": [
    "#concatenate along rows (axis=0)\n",
    "#output multiple columns"
   ]
  },
  {
   "cell_type": "code",
   "execution_count": null,
   "metadata": {},
   "outputs": [],
   "source": [
    "\n",
    "#task 4\n",
    "\n",
    "df1 = pd.DataFrame({'A': [1, 2], 'B': [3, 4]})\n",
    "df2 = pd.DataFrame({'A': [5, 6], 'B': [7, 8]})\n",
    "\n",
    "result = pd.concat([df1, df2], axis=0)  \n",
    "\n",
    "print(result)\n",
    "\n",
    "\n",
    "print (df.sort_values(by=['fiber', 'sodium'], ascending=[False, True]))\n",
    "\n"
   ]
  },
  {
   "cell_type": "markdown",
   "metadata": {},
   "source": [
    "#print the calories in order then those calories ratings in order"
   ]
  },
  {
   "cell_type": "code",
   "execution_count": null,
   "metadata": {},
   "outputs": [],
   "source": [
    "\n",
    "#task 5\n",
    "\n",
    "\n",
    "from pathlib import Path\n",
    "\n",
    "print('hello')\n",
    "filepath = Path('/workspaces/code-ninja-2024-pandas')\n",
    "for i in filepath.glob('cereal'):\n",
    "    print(i)\n",
    "print(df.sort_values(by=['calories', 'rating'], ascending=[False, False]))\n"
   ]
  },
  {
   "cell_type": "markdown",
   "metadata": {},
   "source": [
    "#print first 10 rows, last 10 rows\n",
    "#[rows, cols]\n",
    "\n",
    "#there are 12 tasks so far"
   ]
  },
  {
   "cell_type": "code",
   "execution_count": null,
   "metadata": {},
   "outputs": [],
   "source": [
    "\n",
    "#task 6 \n",
    "import pandas as pd\n",
    "\n",
    "print('hello')\n",
    "\n",
    "df = pd.read_csv(\"cereal.csv\")\n",
    "\n",
    "df1 = df.iloc[1:11, :] \n",
    "df2 =  df.iloc[-11:-1, :]\n",
    "\n",
    "combined_df = pd.concat([df2, df1], ignore_index=True)\n",
    "\n",
    "# Print the combined dataframe\n",
    "print(combined_df)"
   ]
  },
  {
   "cell_type": "markdown",
   "metadata": {},
   "source": [
    "# extra things"
   ]
  },
  {
   "cell_type": "markdown",
   "metadata": {},
   "source": [
    "this is a comment edited after march 3rd"
   ]
  },
  {
   "cell_type": "code",
   "execution_count": null,
   "metadata": {},
   "outputs": [],
   "source": [
    "print(\"this is a python code cell for the next task\")"
   ]
  }
 ],
 "metadata": {
  "kernelspec": {
   "display_name": "Python 3",
   "language": "python",
   "name": "python3"
  },
  "language_info": {
   "codemirror_mode": {
    "name": "ipython",
    "version": 3
   },
   "file_extension": ".py",
   "mimetype": "text/x-python",
   "name": "python",
   "nbconvert_exporter": "python",
   "pygments_lexer": "ipython3",
   "version": "3.11.4"
  }
 },
 "nbformat": 4,
 "nbformat_minor": 2
}
